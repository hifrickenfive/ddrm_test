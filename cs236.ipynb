{
 "cells": [
  {
   "cell_type": "markdown",
   "metadata": {},
   "source": [
    "# main.py arguments. \n",
    "Can be copy/pasted into VS code's launch.json"
   ]
  },
  {
   "cell_type": "code",
   "execution_count": null,
   "metadata": {},
   "outputs": [],
   "source": [
    "// LSUN BEDROOM\n",
    "\"--ni\",\n",
    "\"--config\", // required\n",
    "\"bedroom.yml\",\n",
    "\"--doc\", // required. Name of log folder. Log folder is where the model chkpt resides / downloaded to if empty\n",
    "\"bedroom\",\n",
    "\"--timesteps\",  // DDRM sampling timesteps\n",
    "\"20\",\n",
    "\"--deg\", \n",
    "\"deno\", \n",
    "\"--sigma_0\", \n",
    "\"0.05\",\n",
    "\"--exp\", // name of the experiment folder\n",
    "\"exp2\", \n",
    "\"--no_degrade\" // Override vanilla DDRM's creation of y0, which would've added extra noise to a clean image for subsequent reversal\n",
    "\n",
    "// ImageNet\n",
    "\"--ni\",\n",
    "\"--config\",\n",
    "\"imagenet_256.yml\",\n",
    "\"--doc\",\n",
    "\"imagenet_ood\",\n",
    "\"--timesteps\",\n",
    "\"20\",\n",
    "\"--eta\",\n",
    "\"0.85\",\n",
    "\"--etaB\",\n",
    "\"1\",\n",
    "\"--deg\",\n",
    "\"deno\",\n",
    "\"--sigma_0\",\n",
    "\"0.05\",\n",
    "\"-i\",\n",
    "\"imagenet_sr4_sigma_0.0\",\n",
    "\"--exp\",\n",
    "\"exp10\",\n",
    "\"--no_degrade\""
   ]
  },
  {
   "cell_type": "markdown",
   "metadata": {},
   "source": [
    "# How to use plot helpers"
   ]
  },
  {
   "cell_type": "code",
   "execution_count": 1,
   "metadata": {},
   "outputs": [],
   "source": [
    "from plotting import plotting_helper\n",
    "#plot_20_imaages(directory_path, output_path, output_filename)\n",
    "plotting_helper.plot_20_images('exp11/image_samples/imagenet_sr4_sigma_0.0', 'results/', 'ImageNet_deno_sig0.05_ts20_PSNR33.92_time95s.png')\n",
    "plotting_helper.plot_20_images('exp4/image_samples/images', 'results/', 'LSUN_deno_sig0.05_ts20_PSNR33.41_time50s.png')\n"
   ]
  }
 ],
 "metadata": {
  "kernelspec": {
   "display_name": "ddrm",
   "language": "python",
   "name": "python3"
  },
  "language_info": {
   "codemirror_mode": {
    "name": "ipython",
    "version": 3
   },
   "file_extension": ".py",
   "mimetype": "text/x-python",
   "name": "python",
   "nbconvert_exporter": "python",
   "pygments_lexer": "ipython3",
   "version": "3.9.7"
  }
 },
 "nbformat": 4,
 "nbformat_minor": 2
}
